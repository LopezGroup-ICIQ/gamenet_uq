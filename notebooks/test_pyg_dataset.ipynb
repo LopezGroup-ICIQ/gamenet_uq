{
 "cells": [
  {
   "cell_type": "code",
   "execution_count": null,
   "metadata": {},
   "outputs": [],
   "source": [
    "import sys\n",
    "sys.path.append('../src')\n",
    "import random\n",
    "# increase RLIMIT\n",
    "import resource\n",
    "resource.setrlimit(resource.RLIMIT_NOFILE, (65536, 65536))\n",
    "import matplotlib.pyplot as plt\n",
    "\n",
    "\n",
    "from fats.dataset import AdsorptionGraphDataset\n",
    "from fats.graph_tools import graph_plotter"
   ]
  },
  {
   "cell_type": "markdown",
   "metadata": {},
   "source": [
    "## Generate graph dataset"
   ]
  },
  {
   "cell_type": "code",
   "execution_count": null,
   "metadata": {},
   "outputs": [],
   "source": [
    "ASE_DB_PATH = \"../data/fg.db\"\n",
    "GRAPH_DATASET_PATH = \"../data\"\n",
    "STRUCTURE_DICT = {\"tolerance\": 0.25, \"scaling_factor\": 1.25, \"second_order\": True}\n",
    "FEATURES_DICT = {\"adsorbate\": False, \"radical\": False, \"valence\": False, \"gcn\": True, \"magnetization\": False}\n",
    "GRAPH_PARAMS = {\"structure\": STRUCTURE_DICT, \"features\": FEATURES_DICT, \"target\": \"scaled_energy\"}\n",
    "DB_KEY = ''\n",
    "\n",
    "dataset = AdsorptionGraphDataset(ASE_DB_PATH, GRAPH_DATASET_PATH, GRAPH_PARAMS, DB_KEY)"
   ]
  },
  {
   "cell_type": "code",
   "execution_count": null,
   "metadata": {},
   "outputs": [],
   "source": [
    "gas_graphs = []\n",
    "for graph in dataset:\n",
    "    if all(elem in ['C', 'H', 'O', 'N', 'S'] for elem in graph.elem):\n",
    "        gas_graphs.append(graph)\n",
    "print(len(gas_graphs))"
   ]
  },
  {
   "cell_type": "markdown",
   "metadata": {},
   "source": [
    "# Check failed graphs"
   ]
  },
  {
   "cell_type": "code",
   "execution_count": null,
   "metadata": {},
   "outputs": [],
   "source": [
    "random_graph = random.choice(gas_graphs)\n",
    "graph_plotter(random_graph, dataset.ohe_elements, node_index=True)"
   ]
  },
  {
   "cell_type": "code",
   "execution_count": null,
   "metadata": {},
   "outputs": [],
   "source": [
    "graph_plotter(random_graph, dataset.ohe_elements, node_index=True)\n",
    "plt.savefig(\"graph_ts.svg\")"
   ]
  },
  {
   "cell_type": "code",
   "execution_count": null,
   "metadata": {},
   "outputs": [],
   "source": [
    "print(random_graph.elem)"
   ]
  },
  {
   "cell_type": "code",
   "execution_count": null,
   "metadata": {},
   "outputs": [],
   "source": [
    "print(random_graph.x[:,-1])"
   ]
  },
  {
   "cell_type": "code",
   "execution_count": null,
   "metadata": {},
   "outputs": [],
   "source": [
    "from ase.visualize import view\n",
    "view(random_graph.atoms_obj)"
   ]
  },
  {
   "cell_type": "code",
   "execution_count": null,
   "metadata": {},
   "outputs": [],
   "source": [
    "random_graph.type"
   ]
  },
  {
   "cell_type": "code",
   "execution_count": null,
   "metadata": {},
   "outputs": [],
   "source": [
    "random_graph.x[:,-1]"
   ]
  },
  {
   "cell_type": "code",
   "execution_count": null,
   "metadata": {},
   "outputs": [],
   "source": []
  },
  {
   "cell_type": "markdown",
   "metadata": {},
   "source": [
    "# Visualization of graph and atoms objects\n"
   ]
  },
  {
   "cell_type": "code",
   "execution_count": null,
   "metadata": {},
   "outputs": [],
   "source": [
    "metal_list, type_list, bb_type_list, adsorbate_size_list, facet_list, energy_list, nC_list, nO_list = [], [], [], [], [], [], [], []\n",
    "for graph in dataset:\n",
    "    metal_list.append(graph.metal)\n",
    "    type_list.append(graph.type)\n",
    "    bb_type_list.append(graph.bb_type)\n",
    "    atoms = graph.atoms_obj\n",
    "    nC_list.append(atoms.get_chemical_symbols().count(\"C\"))\n",
    "    nO_list.append(atoms.get_chemical_symbols().count(\"O\"))\n",
    "    size = atoms.get_chemical_symbols().count(\"C\") + atoms.get_chemical_symbols().count(\"H\") + atoms.get_chemical_symbols().count(\"O\")\n",
    "    adsorbate_size_list.append(size)\n",
    "    facet_list.append(graph.facet)\n",
    "    energy_list.append(graph.target.item())"
   ]
  },
  {
   "cell_type": "code",
   "execution_count": null,
   "metadata": {},
   "outputs": [],
   "source": [
    "metal_count = {metal: metal_list.count(metal) for metal in set(metal_list)}\n",
    "bb_type_count = {bb_type: bb_type_list.count(bb_type) for bb_type in set(bb_type_list)}\n",
    "facet_count = {facet: facet_list.count(facet) for facet in set(facet_list)}\n",
    "adsorbate_size_count = {size: adsorbate_size_list.count(size) for size in set(adsorbate_size_list)}\n",
    "nC_count = {nC: nC_list.count(nC) for nC in set(nC_list)}\n",
    "nO_count = {nO: nO_list.count(nO) for nO in set(nO_list)}\n",
    "type_count = {type_: type_list.count(type_) for type_ in set(type_list)}\n"
   ]
  },
  {
   "cell_type": "code",
   "execution_count": null,
   "metadata": {},
   "outputs": [],
   "source": [
    "type_count"
   ]
  },
  {
   "cell_type": "code",
   "execution_count": null,
   "metadata": {},
   "outputs": [],
   "source": [
    "fig, ax = plt.subplots(4,2, figsize=(18/2.54, 20/2.54))\n",
    "# Set global title\n",
    "fig.suptitle(\"Transition state dataset\")\n",
    "ax[0,0].bar(bb_type_count.keys(), bb_type_count.values(), color=\"C0\")\n",
    "for key, value in bb_type_count.items():\n",
    "    ax[0,0].text(key, value, str(value), ha=\"center\", va=\"bottom\")\n",
    "ax[0,1].bar(metal_count.keys(), metal_count.values(), color=\"C1\", width=0.7, align=\"center\", )\n",
    "# for key, value in metal_count.items():\n",
    "#     ax[0,1].text(key, value, str(value), ha=\"center\", va=\"bottom\")\n",
    "ax[1,0].bar(adsorbate_size_count.keys(), adsorbate_size_count.values(), color=\"C2\")\n",
    "for key, value in adsorbate_size_count.items():\n",
    "    ax[1,0].text(key, value, str(value), ha=\"center\", va=\"bottom\")\n",
    "ax[1,1].bar(facet_count.keys(), facet_count.values(), color=\"C3\", width=0.5, align=\"center\")\n",
    "for key, value in facet_count.items():\n",
    "    ax[1,1].text(key, value, str(value), ha=\"center\", va=\"bottom\")\n",
    "ax[2,0].bar(nC_count.keys(), nC_count.values(), color=\"C4\")\n",
    "for key, value in nC_count.items():\n",
    "    ax[2,0].text(key, value, str(value), ha=\"center\", va=\"bottom\")\n",
    "ax[2,1].bar(nO_count.keys(), nO_count.values(), color=\"C5\")\n",
    "for key, value in nO_count.items():\n",
    "    ax[2,1].text(key, value, str(value), ha=\"center\", va=\"bottom\")\n",
    "ax[3,0].bar(type_count.keys(), type_count.values(), color=\"C6\")\n",
    "for key, value in type_count.items():\n",
    "    ax[3,0].text(key, value, str(value), ha=\"center\", va=\"bottom\")\n",
    "\n",
    "\n",
    "\n",
    "ax[0,0].set_xlabel(\"Bond-breaking\")\n",
    "ax[0,1].set_xlabel(\"Metal\")\n",
    "ax[1,0].set_xlabel(\"Adsorbate size\")\n",
    "ax[1,1].set_xlabel(\"Surface\")\n",
    "ax[2,0].set_xlabel(\"Adsorbate C count\")\n",
    "ax[2,1].set_xlabel(\"Adsorbate O count\")\n",
    "ax[0,0].set_ylabel(\"Count\")\n",
    "ax[0,1].set_ylabel(\"\")\n",
    "ax[1,0].set_ylabel(\"Count\")\n",
    "ax[1,1].set_ylabel(\"\")\n",
    "ax[2,0].set_ylabel(\"Count\")\n",
    "ax[2,1].set_ylabel(\"\")\n",
    "ax[3,0].set_ylabel(\"Count\")\n",
    "ax[3,1].set_ylabel(\"\")\n",
    "\n",
    "for i in range(4):\n",
    "    for j in range(2):\n",
    "        ylim = ax[i,j].get_ylim()\n",
    "        ax[i,j].set_ylim(ylim[0], ylim[1]*1.2)\n",
    "\n",
    "plt.tight_layout()\n",
    "# plt.savefig(\"TS_dataset_stats.svg\")"
   ]
  },
  {
   "cell_type": "code",
   "execution_count": null,
   "metadata": {},
   "outputs": [],
   "source": [
    "fig, ax = plt.subplots(2,2, figsize=(18/2.54, 14/2.54))"
   ]
  },
  {
   "cell_type": "code",
   "execution_count": null,
   "metadata": {},
   "outputs": [],
   "source": [
    "# plot distribution of energies\n",
    "fig, ax = plt.subplots(figsize=(18/2.54, 10/2.54))\n",
    "sns.histplot(energy_list, ax=ax)\n",
    "ax.set_xlabel(\"$E_{tot}-E_{slab}$ / eV\")\n",
    "ax.set_ylabel(\"Count\")\n",
    "ax.set_title(\"TS dataset energy distribution\")\n",
    "plt.tight_layout()\n",
    "plt.savefig(\"TS_dataset_energy_distribution.svg\")"
   ]
  },
  {
   "cell_type": "code",
   "execution_count": null,
   "metadata": {},
   "outputs": [],
   "source": [
    "for i, graph in enumerate(TS_dataset):\n",
    "    if graph.target >= 0:\n",
    "        print(i, graph.formula, graph.target.item(), graph.type)\n",
    "        "
   ]
  },
  {
   "cell_type": "code",
   "execution_count": null,
   "metadata": {},
   "outputs": [],
   "source": []
  },
  {
   "cell_type": "code",
   "execution_count": null,
   "metadata": {},
   "outputs": [],
   "source": [
    "view([TS_dataset[3414].atoms_obj, TS_dataset[3416].atoms_obj, TS_dataset[3423].atoms_obj])"
   ]
  },
  {
   "cell_type": "code",
   "execution_count": null,
   "metadata": {},
   "outputs": [],
   "source": [
    "graph_plotter(TS_dataset[3423], TS_dataset.ohe_elements, node_index=False)"
   ]
  },
  {
   "cell_type": "code",
   "execution_count": null,
   "metadata": {},
   "outputs": [],
   "source": [
    "# Create folder of .png files for each graph in dataset\n",
    "# import os\n",
    "# import matplotlib.pyplot as plt\n",
    "# os.makedirs(\"../data/plots\", exist_ok=True)\n",
    "# for i, graph in enumerate(FG_dataset):\n",
    "#     formula = graph.atoms_obj.get_chemical_formula()\n",
    "#     bond_breaking = graph.bb_type\n",
    "#     graph_plotter(graph, FG_dataset.ohe_elements, node_index=False)\n",
    "#     plt.title(formula + \" (\" + bond_breaking+ \")\" )\n",
    "#     plt.savefig(os.path.join(\"../data/plots\", f\"graph_{i}.svg\"))\n",
    "#     plt.close()"
   ]
  }
 ],
 "metadata": {
  "kernelspec": {
   "display_name": "gnn_original",
   "language": "python",
   "name": "python3"
  },
  "language_info": {
   "codemirror_mode": {
    "name": "ipython",
    "version": 3
   },
   "file_extension": ".py",
   "mimetype": "text/x-python",
   "name": "python",
   "nbconvert_exporter": "python",
   "pygments_lexer": "ipython3",
   "version": "3.10.12"
  }
 },
 "nbformat": 4,
 "nbformat_minor": 2
}
